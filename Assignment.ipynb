{
 "cells": [
  {
   "cell_type": "code",
   "execution_count": 1,
   "id": "8affe7d2-7f1c-4d67-8d91-0f20d1813185",
   "metadata": {},
   "outputs": [],
   "source": [
    "a = \"pwskills\""
   ]
  },
  {
   "cell_type": "code",
   "execution_count": 2,
   "id": "21f821c2-4585-4516-8575-d3eb67d378e6",
   "metadata": {},
   "outputs": [
    {
     "data": {
      "text/plain": [
       "'pwskills'"
      ]
     },
     "execution_count": 7,
     "metadata": {},
     "output_type": "execute_result"
    }
   ],
   "source": [
    "a"
   ]
  },
  {
   "cell_type": "code",
   "execution_count": 9,
   "id": "e3466ed9-3b63-4d02-b3cf-88248077c629",
   "metadata": {},
   "outputs": [],
   "source": [
    "#This is string\"pwskills\""
   ]
  },
  {
   "cell_type": "code",
   "execution_count": 10,
   "id": "fe1e2776-3348-43e5-8ffb-1c7786975ca3",
   "metadata": {},
   "outputs": [],
   "source": [
    "b = [1,2,3,4,5]"
   ]
  },
  {
   "cell_type": "code",
   "execution_count": 11,
   "id": "c880af86-477e-4867-beee-ccdf4573d7a0",
   "metadata": {},
   "outputs": [
    {
     "data": {
      "text/plain": [
       "[1, 2, 3, 4, 5]"
      ]
     },
     "execution_count": 11,
     "metadata": {},
     "output_type": "execute_result"
    }
   ],
   "source": [
    "b"
   ]
  },
  {
   "cell_type": "code",
   "execution_count": 12,
   "id": "2d6f82d0-2d20-499d-9782-24b7eab79f23",
   "metadata": {},
   "outputs": [],
   "source": [
    "#This is list [1,2,3,4,5]"
   ]
  },
  {
   "cell_type": "code",
   "execution_count": 13,
   "id": "9ed1c7a7-0a7f-4059-9986-e9f1027ce6ec",
   "metadata": {},
   "outputs": [],
   "source": [
    "c = 45.55"
   ]
  },
  {
   "cell_type": "code",
   "execution_count": 14,
   "id": "86c402af-8615-4e3c-bbfc-332c8f6d25d7",
   "metadata": {},
   "outputs": [
    {
     "data": {
      "text/plain": [
       "45.55"
      ]
     },
     "execution_count": 14,
     "metadata": {},
     "output_type": "execute_result"
    }
   ],
   "source": [
    "c"
   ]
  },
  {
   "cell_type": "code",
   "execution_count": 15,
   "id": "f393eb2b-8478-4d5a-8d8f-cf3334107f7f",
   "metadata": {},
   "outputs": [],
   "source": [
    "#This is float 45.55"
   ]
  },
  {
   "cell_type": "code",
   "execution_count": 16,
   "id": "82d1f958-545f-4f7d-a352-00a68411a7fd",
   "metadata": {},
   "outputs": [],
   "source": [
    "d = (80,55,24,65,78)"
   ]
  },
  {
   "cell_type": "code",
   "execution_count": 17,
   "id": "9bc78b2b-68e7-4d33-af7a-a17c834e9e3b",
   "metadata": {},
   "outputs": [
    {
     "data": {
      "text/plain": [
       "(80, 55, 24, 65, 78)"
      ]
     },
     "execution_count": 17,
     "metadata": {},
     "output_type": "execute_result"
    }
   ],
   "source": [
    "d"
   ]
  },
  {
   "cell_type": "code",
   "execution_count": 18,
   "id": "21d6b2d4-e89a-4dc0-b8f8-c7e50bf387e0",
   "metadata": {},
   "outputs": [],
   "source": [
    "#This is tuple(80,55,24,65,78)"
   ]
  },
  {
   "cell_type": "code",
   "execution_count": 19,
   "id": "f5937b37-bb1c-4bc3-a079-991a89a33cdc",
   "metadata": {},
   "outputs": [],
   "source": [
    "#Q.2"
   ]
  },
  {
   "cell_type": "code",
   "execution_count": 20,
   "id": "fd659b87-74ec-4190-8b55-1bd2a397fee1",
   "metadata": {},
   "outputs": [],
   "source": [
    "var1 = ''"
   ]
  },
  {
   "cell_type": "code",
   "execution_count": 23,
   "id": "74142859-47e8-43a8-83fa-bbb33d4c9b37",
   "metadata": {},
   "outputs": [
    {
     "data": {
      "text/plain": [
       "str"
      ]
     },
     "execution_count": 23,
     "metadata": {},
     "output_type": "execute_result"
    }
   ],
   "source": [
    "type(var1)"
   ]
  },
  {
   "cell_type": "code",
   "execution_count": 24,
   "id": "fb5c872a-c287-4910-9865-9c9db02f4739",
   "metadata": {},
   "outputs": [],
   "source": [
    "var2 = '[DS, ML, Python]'"
   ]
  },
  {
   "cell_type": "code",
   "execution_count": 25,
   "id": "71e6cbe3-137b-418f-971e-886db406fe13",
   "metadata": {},
   "outputs": [
    {
     "data": {
      "text/plain": [
       "str"
      ]
     },
     "execution_count": 25,
     "metadata": {},
     "output_type": "execute_result"
    }
   ],
   "source": [
    "type(var2)"
   ]
  },
  {
   "cell_type": "code",
   "execution_count": 27,
   "id": "8b6ca2dc-cee5-4996-affc-b310b27e544a",
   "metadata": {},
   "outputs": [],
   "source": [
    "var3 = ['DS', 'ML', 'Python']"
   ]
  },
  {
   "cell_type": "code",
   "execution_count": 28,
   "id": "eddee713-c7f0-4f74-b64b-3dc53bedd8f6",
   "metadata": {},
   "outputs": [
    {
     "data": {
      "text/plain": [
       "list"
      ]
     },
     "execution_count": 28,
     "metadata": {},
     "output_type": "execute_result"
    }
   ],
   "source": [
    "type(var3)"
   ]
  },
  {
   "cell_type": "code",
   "execution_count": 29,
   "id": "9b802d3d-460b-4654-a2b4-ee79e4b0bdc7",
   "metadata": {},
   "outputs": [],
   "source": [
    "var4 = 1"
   ]
  },
  {
   "cell_type": "code",
   "execution_count": 30,
   "id": "f50629ff-f7b5-4693-8664-d632b8ecdbee",
   "metadata": {},
   "outputs": [
    {
     "data": {
      "text/plain": [
       "int"
      ]
     },
     "execution_count": 30,
     "metadata": {},
     "output_type": "execute_result"
    }
   ],
   "source": [
    "type(var4)"
   ]
  },
  {
   "cell_type": "code",
   "execution_count": 31,
   "id": "1e1e17c4-4dac-4104-b6b7-ee317cb9f289",
   "metadata": {},
   "outputs": [],
   "source": [
    "r = 45/4"
   ]
  },
  {
   "cell_type": "code",
   "execution_count": 32,
   "id": "ebbbdfc7-1156-4800-939f-4902d55dd9e7",
   "metadata": {},
   "outputs": [
    {
     "data": {
      "text/plain": [
       "11.25"
      ]
     },
     "execution_count": 32,
     "metadata": {},
     "output_type": "execute_result"
    }
   ],
   "source": [
    "r"
   ]
  },
  {
   "cell_type": "code",
   "execution_count": 38,
   "id": "84865aae-aae6-49b1-acff-6826c3101b1b",
   "metadata": {},
   "outputs": [],
   "source": [
    "t = 48%9"
   ]
  },
  {
   "cell_type": "code",
   "execution_count": 39,
   "id": "f71c13f8-56d4-4ade-a987-b3355b0a4c3a",
   "metadata": {},
   "outputs": [
    {
     "data": {
      "text/plain": [
       "3"
      ]
     },
     "execution_count": 39,
     "metadata": {},
     "output_type": "execute_result"
    }
   ],
   "source": [
    "t"
   ]
  },
  {
   "cell_type": "code",
   "execution_count": 40,
   "id": "0b42ae8a-cc10-4b31-9efe-49dff3900394",
   "metadata": {},
   "outputs": [],
   "source": [
    "q = 87//3"
   ]
  },
  {
   "cell_type": "code",
   "execution_count": 41,
   "id": "40402763-a2be-462f-9327-a39ce9abc4f3",
   "metadata": {},
   "outputs": [
    {
     "data": {
      "text/plain": [
       "29"
      ]
     },
     "execution_count": 41,
     "metadata": {},
     "output_type": "execute_result"
    }
   ],
   "source": [
    "q"
   ]
  },
  {
   "cell_type": "code",
   "execution_count": 42,
   "id": "cacb3e40-3a42-4144-8221-889082c18ae1",
   "metadata": {},
   "outputs": [],
   "source": [
    "p = 5**3"
   ]
  },
  {
   "cell_type": "code",
   "execution_count": 43,
   "id": "109523ad-4fff-4b77-ac24-0c7321f623eb",
   "metadata": {},
   "outputs": [
    {
     "data": {
      "text/plain": [
       "125"
      ]
     },
     "execution_count": 43,
     "metadata": {},
     "output_type": "execute_result"
    }
   ],
   "source": [
    "p"
   ]
  },
  {
   "cell_type": "code",
   "execution_count": 44,
   "id": "8abae385-49d3-467a-add1-97279c696849",
   "metadata": {},
   "outputs": [],
   "source": [
    "#Q.4"
   ]
  },
  {
   "cell_type": "code",
   "execution_count": 52,
   "id": "6be488dd-97fe-49e7-ba27-7b4a0c26a17e",
   "metadata": {},
   "outputs": [],
   "source": [
    "j = [2,3,5,\"aleem\", \"Dell\",45.2,4.2,0,True,6j]"
   ]
  },
  {
   "cell_type": "code",
   "execution_count": 54,
   "id": "0ccda517-c952-440f-8727-a674f1714596",
   "metadata": {},
   "outputs": [
    {
     "name": "stdout",
     "output_type": "stream",
     "text": [
      "2 <class 'int'>\n",
      "3 <class 'int'>\n",
      "5 <class 'int'>\n",
      "aleem <class 'str'>\n",
      "Dell <class 'str'>\n",
      "45.2 <class 'float'>\n",
      "4.2 <class 'float'>\n",
      "0 <class 'int'>\n",
      "True <class 'bool'>\n",
      "6j <class 'complex'>\n"
     ]
    }
   ],
   "source": [
    "for a in j:\n",
    "    print(a,type(a))"
   ]
  },
  {
   "cell_type": "code",
   "execution_count": null,
   "id": "d7dd7df9-2bca-4f0c-a9f1-9cf165be1fb6",
   "metadata": {},
   "outputs": [],
   "source": [
    "#Q.5"
   ]
  },
  {
   "cell_type": "code",
   "execution_count": 2,
   "id": "2e70d6dc-79b9-401e-8d13-d517fd988690",
   "metadata": {},
   "outputs": [
    {
     "name": "stdin",
     "output_type": "stream",
     "text": [
      "enter the value A: 21\n",
      "enter the value B: 3\n"
     ]
    },
    {
     "name": "stdout",
     "output_type": "stream",
     "text": [
      "7.0 time can be divided by 3\n"
     ]
    }
   ],
   "source": [
    "A = int(input('enter the value A:'))\n",
    "B = int(input('enter the value B:'))\n",
    "\n",
    "count = 0\n",
    "while A % B==0:\n",
    "    count +=1\n",
    "    A = A/B\n",
    "if count > 0:\n",
    "    print(f\"{A} time can be divided by {B}\")\n",
    "else:\n",
    "    print(f\"{A} not divided by {B}\")"
   ]
  },
  {
   "cell_type": "code",
   "execution_count": 3,
   "id": "886e1e9b-2b03-466f-af3a-1781434e4294",
   "metadata": {},
   "outputs": [],
   "source": [
    "#Q.6"
   ]
  },
  {
   "cell_type": "code",
   "execution_count": 5,
   "id": "afc13ffa-cb66-4c30-9d3d-82de2c2a0fd6",
   "metadata": {},
   "outputs": [
    {
     "name": "stdout",
     "output_type": "stream",
     "text": [
      "2\n",
      "not divided by 3\n",
      "6\n",
      "divided by 3\n",
      "12\n",
      "divided by 3\n",
      "15\n",
      "divided by 3\n",
      "5\n",
      "not divided by 3\n",
      "4\n",
      "not divided by 3\n",
      "6\n",
      "divided by 3\n",
      "21\n",
      "divided by 3\n",
      "9\n",
      "divided by 3\n",
      "12\n",
      "divided by 3\n",
      "18\n",
      "divided by 3\n",
      "30\n",
      "divided by 3\n",
      "51\n",
      "divided by 3\n",
      "22\n",
      "not divided by 3\n",
      "34\n",
      "not divided by 3\n",
      "65\n",
      "not divided by 3\n",
      "48\n",
      "divided by 3\n",
      "9\n",
      "divided by 3\n",
      "99\n",
      "divided by 3\n",
      "15\n",
      "divided by 3\n",
      "78\n",
      "divided by 3\n",
      "94\n",
      "not divided by 3\n",
      "20\n",
      "not divided by 3\n",
      "15\n",
      "divided by 3\n",
      "110\n",
      "not divided by 3\n"
     ]
    }
   ],
   "source": [
    "mylist = [2,6,12,15,5,4,6,21,9,12,18,30,51,22,34,65,48,9,99,15,78,94,20,15,110]\n",
    "for n in mylist:\n",
    "    print(n)\n",
    "    if n%3==0:\n",
    "        print(\"divided by 3\")\n",
    "    else:\n",
    "        print(\"not divided by 3\")"
   ]
  },
  {
   "cell_type": "code",
   "execution_count": 6,
   "id": "69efeef4-00c9-49fe-9d66-48fdc7813997",
   "metadata": {},
   "outputs": [
    {
     "ename": "SyntaxError",
     "evalue": "invalid syntax (2839496865.py, line 2)",
     "output_type": "error",
     "traceback": [
      "\u001b[0;36m  Cell \u001b[0;32mIn[6], line 2\u001b[0;36m\u001b[0m\n\u001b[0;31m    Mutable data type changebel\u001b[0m\n\u001b[0m            ^\u001b[0m\n\u001b[0;31mSyntaxError\u001b[0m\u001b[0;31m:\u001b[0m invalid syntax\n"
     ]
    }
   ],
   "source": [
    "#Q.7\n",
    "#Mutable data type changeable. \n",
    "#EX. List,int\n",
    "#immutable data type can't change.\n",
    "#EX. "
   ]
  },
  {
   "cell_type": "code",
   "execution_count": null,
   "id": "2976eaf8-2ab9-4b8a-88ac-7f34d7d8de67",
   "metadata": {},
   "outputs": [],
   "source": []
  }
 ],
 "metadata": {
  "kernelspec": {
   "display_name": "Python 3 (ipykernel)",
   "language": "python",
   "name": "python3"
  },
  "language_info": {
   "codemirror_mode": {
    "name": "ipython",
    "version": 3
   },
   "file_extension": ".py",
   "mimetype": "text/x-python",
   "name": "python",
   "nbconvert_exporter": "python",
   "pygments_lexer": "ipython3",
   "version": "3.10.8"
  }
 },
 "nbformat": 4,
 "nbformat_minor": 5
}
